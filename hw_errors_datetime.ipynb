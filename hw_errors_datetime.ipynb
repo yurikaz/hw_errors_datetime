{
 "cells": [
  {
   "cell_type": "markdown",
   "metadata": {},
   "source": [
    "# Задание 1\n",
    "Напишите функцию date_range, которая возвращает список дней между датами start_date и end_date. Даты должны вводиться в формате YYYY-MM-DD."
   ]
  },
  {
   "cell_type": "markdown",
   "metadata": {},
   "source": [
    "# Задание 2\n",
    "Дополните функцию из первого задания проверкой на корректность дат. В случае неверного формата или если start_date > end_date должен возвращаться пустой список."
   ]
  },
  {
   "cell_type": "code",
   "execution_count": 15,
   "metadata": {},
   "outputs": [
    {
     "name": "stdout",
     "output_type": "stream",
     "text": [
      "['2019-12-21', '2019-12-22', '2019-12-23', '2019-12-24', '2019-12-25', '2019-12-26', '2019-12-27', '2019-12-28', '2019-12-29', '2019-12-30', '2019-12-31', '2020-01-01']\n",
      "Дата завершения интервала должна быть больше даты начала\n",
      "[]\n",
      "time data '2020/01/02' does not match format '%Y-%m-%d'\n",
      "[]\n"
     ]
    }
   ],
   "source": [
    "from datetime import datetime\n",
    "from datetime import timedelta\n",
    "\n",
    "def date_range(start_date, end_date):\n",
    "    result = []\n",
    "    try:\n",
    "        s_date = datetime.strptime(start_date, '%Y-%m-%d')\n",
    "        e_date = datetime.strptime(end_date, '%Y-%m-%d')\n",
    "        \n",
    "        if e_date <= s_date:\n",
    "            raise Exception(\"Дата завершения интервала должна быть больше даты начала\")\n",
    "        \n",
    "        cur_date = s_date + timedelta(days=1)\n",
    "        while cur_date <= e_date:\n",
    "            result.append(cur_date.strftime('%Y-%m-%d'))\n",
    "            cur_date += timedelta(days=1)    \n",
    "    \n",
    "    except Exception as e:\n",
    "        print(e)  \n",
    "    except:\n",
    "        print('Ошибка в параметрах')\n",
    "       \n",
    "    finally:   \n",
    "        return result\n",
    "    \n",
    "print(date_range('2019-12-20','2020-01-01'))\n",
    "print(date_range('2020-01-12','2020-01-01'))\n",
    "print(date_range('2020/01/02','2020-01-01'))"
   ]
  },
  {
   "cell_type": "markdown",
   "metadata": {},
   "source": [
    "# Задание 3\n",
    "Дан поток дат в формате YYYY-MM-DD, в которых встречаются некорректные значения:\n",
    "stream = [‘2018-04-02’, ‘2018-02-29’, ‘2018-19-02’]\n",
    "\n",
    "Напишите функцию, которая проверяет эти даты на корректность. Т. е. для каждой даты возвращает True (дата корректна) или False (некорректная дата)."
   ]
  },
  {
   "cell_type": "code",
   "execution_count": 17,
   "metadata": {},
   "outputs": [
    {
     "data": {
      "text/plain": [
       "[True, False, False]"
      ]
     },
     "execution_count": 17,
     "metadata": {},
     "output_type": "execute_result"
    }
   ],
   "source": [
    "def date_check(date_stream):\n",
    "    result = []\n",
    "    for d in date_stream:\n",
    "        try:\n",
    "            s_date = datetime.strptime(d, '%Y-%m-%d')\n",
    "            result.append(True)\n",
    "        except:\n",
    "            result.append(False)\n",
    "       \n",
    "    return result\n",
    "\n",
    "stream = ['2018-04-02', '2018-02-29', '2018-19-02']\n",
    "date_check(stream)\n"
   ]
  },
  {
   "cell_type": "markdown",
   "metadata": {},
   "source": [
    "# Задание 4 (бонусное)\n",
    "Ваш коллега прислал код функции:\n",
    "\n",
    "DEFAULT_USER_COUNT = 3\n",
    "\n",
    "def delete_and_return_last_user(region, default_list=[‘A100’, ‘A101’, ‘A102’]):\n",
    "\"\"“\n",
    "Удаляет из списка default_list последнего пользователя\n",
    "и возвращает ID нового последнего пользователя.\n",
    "”\"\"\n",
    "element_to_delete = default_list[-1]\n",
    "default_list.remove(element_to_delete)\n",
    "\n",
    "return default_list[DEFAULT_USER_COUNT-2]\n",
    "При однократном вызове этой функции все работает корректно:\n",
    "delete_and_return_last_user(1)\n",
    "‘A101’\n",
    "\n",
    "Однако, при повторном вызове получается ошибка IndexError: list index out of range.\n",
    "\n",
    "Задание:\n",
    "\n",
    "Что значит ошибка list index out of range?\n",
    "Ошибка означает, что количество элементов в списке таково, что по запрошенному индексу элемент отсутсвует.\n",
    "Индекс находится за пределами диапазона индексов этого списка.\n",
    "\n",
    "Почему при первом запуске функция работает корректно, а при втором - нет?\n",
    "Изначательно список содержит 3 элемента. Это диапазон индексов от 0 до 2\n",
    "При первом вызове список сокращается и диапазон становится от 0 до 1 \n",
    "При удалении еще одного элемента, запрашиваемый индес 1 уже находится за пределами диапазона индексов\n",
    "В списке остается один элемент с индексом 0"
   ]
  }
 ],
 "metadata": {
  "kernelspec": {
   "display_name": "Python 3",
   "language": "python",
   "name": "python3"
  },
  "language_info": {
   "codemirror_mode": {
    "name": "ipython",
    "version": 3
   },
   "file_extension": ".py",
   "mimetype": "text/x-python",
   "name": "python",
   "nbconvert_exporter": "python",
   "pygments_lexer": "ipython3",
   "version": "3.7.4"
  }
 },
 "nbformat": 4,
 "nbformat_minor": 2
}
